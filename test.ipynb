{
 "cells": [
  {
   "cell_type": "code",
   "execution_count": 23,
   "metadata": {},
   "outputs": [],
   "source": [
    "import numpy as np\n",
    "from worst_case_implementation import VecDBWorst\n",
    "from hnsw import VecDBhnsw\n",
    "import time\n",
    "from dataclasses import dataclass\n",
    "from typing import List\n",
    "from vec_db import VecDB\n",
    "# from inverted_file_index import VecDBIF\n",
    "from math import ceil\n"
   ]
  },
  {
   "cell_type": "code",
   "execution_count": 1,
   "metadata": {},
   "outputs": [
    {
     "name": "stdout",
     "output_type": "stream",
     "text": [
      "Nearest neighbor IDs: [[ 55 716 661 111 315]]\n",
      "Distances: [[0.24350546 0.3126167  0.38367575 0.4391805  0.5038757 ]]\n"
     ]
    }
   ],
   "source": [
    "import faiss\n",
    "import numpy as np\n",
    "\n",
    "# Create a dataset for demonstration\n",
    "data = np.random.random((1000, 10)).astype(np.float32)\n",
    "\n",
    "# Create an HNSW index\n",
    "index = faiss.IndexHNSWFlat(10, 32)  # 10-dimensional vectors, 32 neighbors per point\n",
    "index.add(data)\n",
    "\n",
    "# Query for nearest neighbors\n",
    "query = np.random.random((1, 10)).astype(np.float32)\n",
    "distances, ids = index.search(query, k=5)\n",
    "\n",
    "print(\"Nearest neighbor IDs:\", ids)\n",
    "print(\"Distances:\", distances)\n"
   ]
  },
  {
   "cell_type": "code",
   "execution_count": 4,
   "metadata": {},
   "outputs": [],
   "source": [
    "def _cal_score(vec1, vec2):\n",
    "    dot_product = np.dot(vec1, vec2)\n",
    "    norm_vec1 = np.linalg.norm(vec1)\n",
    "    norm_vec2 = np.linalg.norm(vec2)\n",
    "    cosine_similarity = dot_product / (norm_vec1 * norm_vec2)\n",
    "    return cosine_similarity"
   ]
  },
  {
   "cell_type": "code",
   "execution_count": 7,
   "metadata": {},
   "outputs": [],
   "source": [
    "\n",
    "QUERY_SEED_NUMBER = 10\n",
    "DB_SEED_NUMBER = 50\n",
    "\n",
    "rng = np.random.default_rng(QUERY_SEED_NUMBER)\n",
    "query = rng.random((1, 70), dtype=np.float32)\n",
    "\n",
    "num_records = 10**7*2\n",
    "rng = np.random.default_rng(DB_SEED_NUMBER)\n",
    "records_np = rng.random((num_records, 70), dtype=np.float32)\n",
    "\n",
    "new_db = True\n",
    "\n",
    "# calculate the score for each record and sort them, write them to a file\n",
    "scores = []\n",
    "for i in range(100000):\n",
    "    score = _cal_score(query, records_np[i])\n",
    "    scores.append((score, i))\n",
    "    \n",
    "scores.sort(key=lambda x: x[0])\n",
    "with open(\"scores.txt\", \"w\") as f:\n",
    "    for score, index in scores:\n",
    "        f.write(str(index) + \",\" + str(score) + \"\\n\")\n"
   ]
  },
  {
   "cell_type": "code",
   "execution_count": 26,
   "metadata": {},
   "outputs": [],
   "source": [
    "import faiss\n",
    "# use faiss to build hnsw index\n",
    "num_records = 10**7*2\n",
    "rng = np.random.default_rng(DB_SEED_NUMBER)\n",
    "records_np = rng.random((num_records, 70), dtype=np.float32)\n",
    "index = faiss.IndexHNSWFlat(70, 16)\n",
    "index.hnsw.efConstruction = 200\n",
    "index.add(records_np)\n",
    "faiss.write_index(index, \"hnsw.index\")\n",
    "\n",
    "# generate the query\n",
    "rng = np.random.default_rng(QUERY_SEED_NUMBER)\n",
    "query = rng.random((1, 70), dtype=np.float32)\n",
    "\n",
    "# use faiss to search\n",
    "index = faiss.read_index(\"hnsw.index\")\n",
    "D, I = index.search(query, 100)\n",
    "print(I)\n",
    "print(D)\n",
    "\n",
    "# compare the result with the result from brute force\n",
    "scores = []\n",
    "for i in range(100000):\n",
    "    score = _cal_score(query, records_np[i])\n",
    "    scores.append((score, i))\n",
    "    \n",
    "scores.sort(key=lambda x: x[0])\n",
    "print(scores[:100])\n",
    "\n",
    "\n"
   ]
  },
  {
   "cell_type": "code",
   "execution_count": null,
   "metadata": {},
   "outputs": [],
   "source": [
    "import nmslib\n",
    "import numpy as np\n",
    "\n",
    "# Create a dataset for demonstration\n",
    "data = np.random.random((1000, 10)).astype(np.float32)\n",
    "\n",
    "# Create an HNSW index\n",
    "index = nmslib.init(method='hnsw', space='cosinesimil')\n",
    "index.addDataPointBatch(data)\n",
    "index.createIndex({'post': 2}, print_progress=True)\n",
    "\n",
    "# Query for nearest neighbors\n",
    "query = np.random.random((1, 10)).astype(np.float32)\n",
    "ids, distances = index.knnQuery(query, k=5)\n",
    "\n",
    "print(\"Nearest neighbor IDs:\", ids)\n",
    "print(\"Distances:\", distances)\n"
   ]
  },
  {
   "cell_type": "code",
   "execution_count": 8,
   "metadata": {},
   "outputs": [
    {
     "name": "stdout",
     "output_type": "stream",
     "text": [
      "7 6 5\n"
     ]
    }
   ],
   "source": [
    "x = 5\n",
    "y = 6\n",
    "z = x\n",
    "\n",
    "# to let z be a reference to x instead of a copy of x, we can use the following\n",
    "z = x\n",
    "x = 7\n",
    "\n",
    "print(x, y, z)"
   ]
  },
  {
   "cell_type": "code",
   "execution_count": 9,
   "metadata": {},
   "outputs": [
    {
     "name": "stdout",
     "output_type": "stream",
     "text": [
      "[('b', 2), ('c', 4), ('a', 5)]\n",
      "2\n"
     ]
    }
   ],
   "source": [
    "dictionary = {'a': 5, 'b': 2, 'c': 4}\n",
    "sorted_dict = sorted(dictionary.items(), key=lambda x: x[1])\n",
    "print(sorted_dict)\n",
    "first_value = sorted_dict[0][1]\n",
    "print(first_value)"
   ]
  },
  {
   "cell_type": "code",
   "execution_count": 10,
   "metadata": {},
   "outputs": [
    {
     "name": "stdout",
     "output_type": "stream",
     "text": [
      "5\n",
      "4\n",
      "3\n",
      "2\n",
      "1\n"
     ]
    }
   ],
   "source": [
    "# for i in range(0,5):\n",
    "#     print(i)\n",
    "\n",
    "# now if we want to print in reverse order\n",
    "for i in range(5,0,-1):\n",
    "    print(i)"
   ]
  },
  {
   "cell_type": "code",
   "execution_count": 11,
   "metadata": {},
   "outputs": [
    {
     "name": "stdout",
     "output_type": "stream",
     "text": [
      "4\n",
      "a\n"
     ]
    }
   ],
   "source": [
    "from typing import Dict, List, Annotated\n",
    "\n",
    "l_of_dict: List[Dict[int, chr]] = [{1: 'a', 2: 'b'}, {3: 'c', 4: 'd'}, {5: 'e', 6: 'f', 7: 'g'}]\n",
    "\n",
    "l_of_dict.append({})\n",
    "print(len(l_of_dict))\n",
    "print(l_of_dict[0].get(1))"
   ]
  },
  {
   "cell_type": "code",
   "execution_count": 12,
   "metadata": {},
   "outputs": [
    {
     "name": "stdout",
     "output_type": "stream",
     "text": [
      "1\n",
      "2\n",
      "3\n"
     ]
    }
   ],
   "source": [
    "l = [1, 2, 3, 4, 5]\n",
    "\n",
    "for i in l[:3]:\n",
    "    print(i)"
   ]
  },
  {
   "cell_type": "code",
   "execution_count": 13,
   "metadata": {},
   "outputs": [
    {
     "name": "stdout",
     "output_type": "stream",
     "text": [
      "0\n",
      "1\n",
      "2\n",
      "3\n",
      "4\n"
     ]
    }
   ],
   "source": [
    "for i in range (5):\n",
    "    print(i)"
   ]
  },
  {
   "cell_type": "code",
   "execution_count": 14,
   "metadata": {},
   "outputs": [
    {
     "name": "stdout",
     "output_type": "stream",
     "text": [
      "[{4: 4}, {3: 3}, {2: 2}, {1: 1}, {0: 0}]\n"
     ]
    }
   ],
   "source": [
    "l = []\n",
    "for i in range(5):\n",
    "    l.insert(0, {i: i})\n",
    "\n",
    "print(l)"
   ]
  },
  {
   "cell_type": "code",
   "execution_count": 15,
   "metadata": {},
   "outputs": [
    {
     "name": "stdout",
     "output_type": "stream",
     "text": [
      "[1, 2, 3, 4, 5, 6, 7, 8, 9, 10]\n"
     ]
    }
   ],
   "source": [
    "l1= [1,2,3,4,5]\n",
    "l2 = [6,7,8,9,10]\n",
    "l3 = l1 + l2\n",
    "print(l3)"
   ]
  },
  {
   "cell_type": "code",
   "execution_count": 16,
   "metadata": {},
   "outputs": [
    {
     "name": "stdout",
     "output_type": "stream",
     "text": [
      "{0: 5}\n"
     ]
    }
   ],
   "source": [
    "a = dict()\n",
    "a[0] = 5\n",
    "print(a)"
   ]
  },
  {
   "cell_type": "code",
   "execution_count": 17,
   "metadata": {},
   "outputs": [
    {
     "name": "stdout",
     "output_type": "stream",
     "text": [
      "{0: [1]}\n",
      "{0: [1, 2]}\n"
     ]
    }
   ],
   "source": [
    "# now we will make a dictionary where the key is integer and value is a list of integers\n",
    "b = dict()\n",
    "# now we want to append only one value to the list\n",
    "b[0] = b.get(0, []) + [1]\n",
    "print(b)\n",
    "\n",
    "b[0] = b.get(0, []) + [2]\n",
    "print(b)"
   ]
  },
  {
   "cell_type": "code",
   "execution_count": 18,
   "metadata": {},
   "outputs": [
    {
     "name": "stderr",
     "output_type": "stream",
     "text": [
      "c:\\Users\\Rufai\\AppData\\Local\\Programs\\Python\\Python39\\lib\\site-packages\\sklearn\\cluster\\_kmeans.py:870: FutureWarning: The default value of `n_init` will change from 10 to 'auto' in 1.4. Set the value of `n_init` explicitly to suppress the warning\n",
      "  warnings.warn(\n"
     ]
    },
    {
     "name": "stdout",
     "output_type": "stream",
     "text": [
      "[[10.  2.]\n",
      " [ 1.  2.]]\n",
      "------------------\n",
      "[1]\n",
      "------------------\n",
      "[array([10.,  2.]), array([1., 2.])]\n",
      "------------------\n"
     ]
    }
   ],
   "source": [
    "# let's test the kmeans algorithm\n",
    "from sklearn.cluster import KMeans\n",
    "import numpy as np\n",
    "class vector:\n",
    "    def __init__(self, id, vect) -> None:\n",
    "        self.id = id\n",
    "        self.vect = vect\n",
    "        self.centroid = None # the centroid that this vector belongs to\n",
    "\n",
    "\n",
    "Vecs = []\n",
    "Vecs.append(vector(0, [1, 2]))\n",
    "Vecs.append(vector(1, [1, 4]))\n",
    "Vecs.append(vector(2, [1, 0]))\n",
    "Vecs.append(vector(3, [10, 2]))\n",
    "Vecs.append(vector(4, [10, 4]))\n",
    "Vecs.append(vector(5, [10, 0]))\n",
    "\n",
    "# apply kmeans on the vectors\n",
    "kmeans = KMeans(n_clusters=2, random_state=0).fit(np.array([v.vect for v in Vecs]))\n",
    "\n",
    "print(kmeans.cluster_centers_)\n",
    "print(\"------------------\")\n",
    "#  now we need to find the n closest centroids to the vector\n",
    "n = 2\n",
    "v = Vecs[0]\n",
    "print(kmeans.predict([v.vect]))\n",
    "print(\"------------------\")\n",
    "\n",
    "nearest_centroids = sorted(kmeans.cluster_centers_, key=lambda x: np.linalg.norm(x - v.vect), reverse= True)[:n]\n",
    "print(nearest_centroids)\n",
    "print(\"------------------\")\n",
    "# another way to do it is to use the kneighbors function\n",
    "\n"
   ]
  },
  {
   "cell_type": "code",
   "execution_count": 19,
   "metadata": {},
   "outputs": [
    {
     "name": "stdout",
     "output_type": "stream",
     "text": [
      "[(1, 'one'), (2, 'two'), (5, 'five'), (10, 'ten')]\n",
      "1\n",
      "[(-10, 'ten'), (-2, 'two'), (-5, 'five'), (-1, 'one')]\n"
     ]
    }
   ],
   "source": [
    "import heapq\n",
    "heap = []\n",
    "\n",
    "# heapify function converts a regular list to a heap\n",
    "heapq.heapify(heap)\n",
    "heapq.heappush(heap, (1, 'one'))\n",
    "heapq.heappush(heap, (10, 'ten'))\n",
    "heapq.heappush(heap, (5, 'five'))\n",
    "heapq.heappush(heap, (2, 'two'))\n",
    "print(heap)\n",
    "\n",
    "# print only the first element of the heap\n",
    "print(heap[0][0])\n",
    "\n",
    "\n",
    "# now we will try to create another heap that is sorted descendingly\n",
    "# we can do that by multiplying the key by -1\n",
    "heap2 = []\n",
    "heapq.heapify(heap2)\n",
    "heapq.heappush(heap2, (-1, 'one'))\n",
    "heapq.heappush(heap2, (-10, 'ten'))\n",
    "heapq.heappush(heap2, (-5, 'five'))\n",
    "heapq.heappush(heap2, (-2, 'two'))\n",
    "print(heap2)\n",
    "\n",
    "\n"
   ]
  },
  {
   "cell_type": "code",
   "execution_count": 20,
   "metadata": {},
   "outputs": [
    {
     "name": "stderr",
     "output_type": "stream",
     "text": [
      "'conda' is not recognized as an internal or external command,\n",
      "operable program or batch file.\n",
      "C:\\msys64\\mingw64\\bin\\python3.exe: No module named pip3\n",
      "Traceback (most recent call last):\n",
      "  File \"<frozen runpy>\", line 198, in _run_module_as_main\n",
      "  File \"<frozen runpy>\", line 88, in _run_code\n",
      "  File \"C:\\Python311\\Scripts\\pip.exe\\__main__.py\", line 4, in <module>\n",
      "ModuleNotFoundError: No module named 'pip'\n",
      "'conda' is not recognized as an internal or external command,\n",
      "operable program or batch file.\n",
      "'conda' is not recognized as an internal or external command,\n",
      "operable program or batch file.\n",
      "'conda' is not recognized as an internal or external command,\n",
      "operable program or batch file.\n"
     ]
    }
   ],
   "source": [
    "# Nothing changed\n",
    "!conda update sklearn\n",
    "\n",
    "# Error cannot find pip3\n",
    "!python3 -m pip3 install --upgrade sklearn\n",
    "\n",
    "# From the logs is installing 0.22\n",
    "!pip install sklearn --upgrade\n",
    "\n",
    "\n",
    "!conda install scikit-learn -y\n",
    "\n",
    "# Stuck forever at: Solving environment\n",
    "!conda config --append channels conda-forge\n",
    "!conda install scikit-learn=0.23.1"
   ]
  },
  {
   "cell_type": "code",
   "execution_count": 21,
   "metadata": {},
   "outputs": [],
   "source": [
    "# uinstall pip threadpoolctl\n",
    "# uninstall sklearn \n",
    "# install sklearn\n",
    "\n",
    "# pip freeze | grep scikit-learn  --> google colab"
   ]
  },
  {
   "cell_type": "code",
   "execution_count": 22,
   "metadata": {},
   "outputs": [
    {
     "ename": "FileNotFoundError",
     "evalue": "[Errno 2] No such file or directory: '10k/centroids.pkl'",
     "output_type": "error",
     "traceback": [
      "\u001b[1;31m---------------------------------------------------------------------------\u001b[0m",
      "\u001b[1;31mFileNotFoundError\u001b[0m                         Traceback (most recent call last)",
      "Cell \u001b[1;32mIn [22], line 4\u001b[0m\n\u001b[0;32m      1\u001b[0m \u001b[38;5;28;01mimport\u001b[39;00m \u001b[38;5;21;01mpickle\u001b[39;00m\n\u001b[0;32m      3\u001b[0m \u001b[38;5;66;03m# now we will try to load data from a pickle file\u001b[39;00m\n\u001b[1;32m----> 4\u001b[0m data \u001b[38;5;241m=\u001b[39m pickle\u001b[38;5;241m.\u001b[39mload(\u001b[38;5;28;43mopen\u001b[39;49m\u001b[43m(\u001b[49m\u001b[38;5;124;43m'\u001b[39;49m\u001b[38;5;124;43m10k/centroids.pkl\u001b[39;49m\u001b[38;5;124;43m'\u001b[39;49m\u001b[43m,\u001b[49m\u001b[43m \u001b[49m\u001b[38;5;124;43m'\u001b[39;49m\u001b[38;5;124;43mrb\u001b[39;49m\u001b[38;5;124;43m'\u001b[39;49m\u001b[43m)\u001b[49m)\n",
      "\u001b[1;31mFileNotFoundError\u001b[0m: [Errno 2] No such file or directory: '10k/centroids.pkl'"
     ]
    }
   ],
   "source": [
    "import pickle\n",
    "\n",
    "# now we will try to load data from a pickle file\n",
    "data = pickle.load(open('10k/centroids.pkl', 'rb'))"
   ]
  },
  {
   "cell_type": "code",
   "execution_count": null,
   "metadata": {},
   "outputs": [
    {
     "name": "stdout",
     "output_type": "stream",
     "text": [
      "[1, 2, 3, 4, 5]\n",
      "[6, 7, 8, 9, 10]\n"
     ]
    }
   ],
   "source": [
    "import pickle\n",
    "\n",
    "person1 = [1, 2, 3, 4, 5]\n",
    "preson2 = [6, 7, 8, 9, 10]\n",
    "\n",
    "pickleFile = open(\"person1.pkl\",\"wb\")\n",
    "pickle.dump(person1, pickleFile) # put\n",
    "pickle.dump(preson2, pickleFile) # put\n",
    "\n",
    "\n",
    "\n",
    "pickleFile = open(\"person1.pkl\",\"rb\")\n",
    "\n",
    "# looad from the file until we reach the end of the file\n",
    "while True:\n",
    "    try:\n",
    "        print(pickle.load(pickleFile))\n",
    "    except EOFError:\n",
    "        break\n",
    "\n",
    "# print(persona)\n",
    "# print(personb)"
   ]
  },
  {
   "cell_type": "code",
   "execution_count": null,
   "metadata": {},
   "outputs": [
    {
     "name": "stdout",
     "output_type": "stream",
     "text": [
      "[[2, 3], [5, 6], [8, 9]]\n"
     ]
    }
   ],
   "source": [
    "matrix = [[1,2,3],[4,5,6],[7,8,9]]\n",
    "# let's remove the first element of each row without using a for loop\n",
    "matrix = [row[1:] for row in matrix]\n",
    "print(matrix)"
   ]
  },
  {
   "cell_type": "code",
   "execution_count": null,
   "metadata": {},
   "outputs": [
    {
     "name": "stdout",
     "output_type": "stream",
     "text": [
      "[1, 2, 3, 4]\n"
     ]
    }
   ],
   "source": [
    "v = [1] + [2,3,4]\n",
    "print(v)"
   ]
  },
  {
   "cell_type": "code",
   "execution_count": null,
   "metadata": {},
   "outputs": [
    {
     "name": "stdout",
     "output_type": "stream",
     "text": [
      "[{'example_key': 'example_value_1', 'numbers': [1, 2, 3, 4]}, {'example_key': 'example_value_2', 'numbers': [5, 6, 7, 8]}]\n"
     ]
    }
   ],
   "source": [
    "data_list = [\n",
    "    {'example_key': 'example_value_1', 'numbers': [1, 2, 3, 4]},\n",
    "    {'example_key': 'example_value_2', 'numbers': [5, 6, 7, 8]},\n",
    "    # Add more dictionaries as needed\n",
    "]\n",
    "\n",
    "# Specify the file path\n",
    "file_path = 'example.pkl'\n",
    "\n",
    "# Open the file in binary write mode ('wb')\n",
    "with open(file_path, 'wb') as file:\n",
    "    # Use a for loop to iterate through the list and dump each dictionary\n",
    "    for data in data_list:\n",
    "        pickle.dump(data, file)\n",
    "\n",
    "# Open the file in binary read mode ('rb')\n",
    "with open(file_path, 'rb') as file:\n",
    "    # Use a for loop to iterate through the list and load each dictionary\n",
    "    for i in range(len(data_list)):\n",
    "        data_list[i] = pickle.load(file)\n",
    "\n",
    "# Print the loaded data\n",
    "print(data_list)\n"
   ]
  },
  {
   "cell_type": "code",
   "execution_count": 21,
   "metadata": {},
   "outputs": [
    {
     "name": "stdout",
     "output_type": "stream",
     "text": [
      "File 'hello.txt' copied to 'dest'.\n"
     ]
    }
   ],
   "source": [
    "import shutil\n",
    "import os\n",
    "\n",
    "def copy_files(src_folder, dest_folder):\n",
    "    # Make sure the source folder exists\n",
    "    if not os.path.exists(src_folder):\n",
    "        print(f\"Source folder '{src_folder}' does not exist.\")\n",
    "        return\n",
    "\n",
    "    # Make sure the destination folder exists, create it if necessary\n",
    "    if not os.path.exists(dest_folder):\n",
    "        os.makedirs(dest_folder)\n",
    "\n",
    "    # Get a list of all files in the source folder\n",
    "    files = os.listdir(src_folder)\n",
    "\n",
    "    # Copy each file from the source folder to the destination folder\n",
    "    for file in files:\n",
    "        src_path = os.path.join(src_folder, file)\n",
    "        dest_path = os.path.join(dest_folder, file)\n",
    "        shutil.copy(src_path, dest_path)\n",
    "        print(f\"File '{file}' copied to '{dest_folder}'.\")\n",
    "\n",
    "# Example usage:\n",
    "source_folder = 'src'\n",
    "destination_folder = 'dest'\n",
    "\n",
    "copy_files(source_folder, destination_folder)\n",
    "\n",
    "\n"
   ]
  },
  {
   "cell_type": "code",
   "execution_count": null,
   "metadata": {},
   "outputs": [
    {
     "data": {
      "text/plain": [
       "10"
      ]
     },
     "execution_count": 5,
     "metadata": {},
     "output_type": "execute_result"
    }
   ],
   "source": [
    "# let's append in the file in the dest folder\n",
    "file = open(f'{destination_folder}/hello.txt', 'a')\n",
    "file.write('doaa magdy')"
   ]
  },
  {
   "cell_type": "code",
   "execution_count": 16,
   "metadata": {},
   "outputs": [
    {
     "name": "stdout",
     "output_type": "stream",
     "text": [
      "[[0.7813332  0.78742266 0.7145687  0.8336693  0.8237809  0.54790443\n",
      "  0.24254471 0.97344905 0.8289076  0.23683351 0.27866644 0.6469233\n",
      "  0.67119896 0.06502604 0.9596958  0.5555776  0.01293612 0.40235746\n",
      "  0.6543596  0.26596576 0.6883337  0.9866823  0.6262581  0.39731765\n",
      "  0.18344492 0.32845616 0.6601709  0.12515694 0.99986154 0.11145777\n",
      "  0.29785854 0.98457336 0.55596834 0.5789395  0.45138943 0.8920926\n",
      "  0.53687006 0.01508015 0.78798324 0.59969866 0.1192258  0.4202239\n",
      "  0.54847825 0.37373084 0.9542997  0.70650905 0.27028292 0.06140804\n",
      "  0.542406   0.23580968 0.91909045 0.24576241 0.6833456  0.44861054\n",
      "  0.22162598 0.3316726  0.462358   0.7717461  0.15772003 0.47309273\n",
      "  0.58490956 0.7804164  0.4965189  0.12486297 0.46206492 0.57882965\n",
      "  0.24902534 0.70675725 0.6981578  0.6835448 ]]\n",
      "[[0.7813332080841064, 0.7874226570129395, 0.7145686745643616, 0.8336693048477173, 0.82378089427948, 0.5479044318199158, 0.24254471063613892, 0.9734490513801575, 0.8289076089859009, 0.23683351278305054, 0.2786664366722107, 0.646923303604126, 0.6711989641189575, 0.06502604484558105, 0.9596958160400391, 0.5555775761604309, 0.012936115264892578, 0.40235745906829834, 0.6543595790863037, 0.2659657597541809, 0.6883336901664734, 0.9866822957992554, 0.6262580752372742, 0.39731764793395996, 0.18344491720199585, 0.32845616340637207, 0.6601709127426147, 0.1251569390296936, 0.9998615384101868, 0.11145776510238647, 0.2978585362434387, 0.9845733642578125, 0.5559683442115784, 0.5789394974708557, 0.4513894319534302, 0.8920925855636597, 0.5368700623512268, 0.015080153942108154, 0.787983238697052, 0.5996986627578735, 0.11922580003738403, 0.4202238917350769, 0.5484782457351685, 0.3737308382987976, 0.9542996883392334, 0.7065090537071228, 0.27028292417526245, 0.061408042907714844, 0.5424060225486755, 0.23580968379974365, 0.9190904498100281, 0.2457624077796936, 0.6833456158638, 0.4486105442047119, 0.22162598371505737, 0.3316726088523865, 0.4623579978942871, 0.7717460989952087, 0.15772002935409546, 0.4730927348136902, 0.5849095582962036, 0.7804164290428162, 0.49651890993118286, 0.12486296892166138, 0.4620649218559265, 0.5788296461105347, 0.2490253448486328, 0.7067572474479675, 0.698157787322998, 0.6835448145866394]]\n",
      "[0.7813332080841064]\n"
     ]
    }
   ],
   "source": [
    "import numpy as np\n",
    "rng = np.random.default_rng(50)\n",
    "query = rng.random((1, 70), dtype=np.float32)\n",
    "print(query)\n",
    "query.reshape(1, -1)\n",
    "query = np.array(query).tolist()\n",
    "print(query)\n",
    "\n",
    "\n",
    "query = [float(e[0]) for e in query]\n",
    "print(query)"
   ]
  },
  {
   "cell_type": "code",
   "execution_count": 3,
   "metadata": {},
   "outputs": [
    {
     "name": "stdout",
     "output_type": "stream",
     "text": [
      "True\n"
     ]
    }
   ],
   "source": [
    "A = \"DOAA\"\n",
    "B = \"DOAA\"\n",
    "print(B == A)\n"
   ]
  },
  {
   "cell_type": "code",
   "execution_count": 8,
   "metadata": {},
   "outputs": [
    {
     "name": "stdout",
     "output_type": "stream",
     "text": [
      "[(0, 'zero'), (1, 'one'), (5, 'five')]\n",
      "4\n"
     ]
    }
   ],
   "source": [
    "import heapq\n",
    "\n",
    "heap = []\n",
    "heapq.heapify(heap)\n",
    "heapq.heappush(heap, (1, 'one'))\n",
    "heapq.heappush(heap, (10, 'ten'))\n",
    "heapq.heappush(heap, (5, 'five'))\n",
    "heapq.heappush(heap, (0, \"zero\"))\n",
    "\n",
    "h2 = []\n",
    "heapq.heapify(h2)\n",
    "h2 += heap[0:3]\n",
    "\n",
    "print(h2)\n",
    "print(len(heap))"
   ]
  },
  {
   "cell_type": "code",
   "execution_count": 2,
   "metadata": {},
   "outputs": [
    {
     "name": "stdout",
     "output_type": "stream",
     "text": [
      "deque([(5, 'five'), (1, 'one'), (10, 'ten')])\n",
      "(5, 'five')\n",
      "deque([(1, 'one'), (10, 'ten')])\n"
     ]
    }
   ],
   "source": [
    "# use double ended priority queue\n",
    "import collections\n",
    "\n",
    "q = collections.deque()\n",
    "\n",
    "q.append((5, \"five\"))\n",
    "q.append((1, \"one\"))\n",
    "q.append((10, \"ten\"))\n",
    "\n",
    "print(q)\n",
    "\n",
    "print(q.popleft())\n",
    "print(q)\n",
    "\n",
    "# but the prev q is not sorted, to make a priority queue we can use the following\n"
   ]
  },
  {
   "cell_type": "code",
   "execution_count": 19,
   "metadata": {},
   "outputs": [
    {
     "name": "stdout",
     "output_type": "stream",
     "text": [
      "Original Vectors:\n",
      " [[1 2 3]\n",
      " [4 5 6]\n",
      " [7 8 9]]\n",
      "Normalized Vectors:\n",
      " [[0.26726124 0.53452248 0.80178373]\n",
      " [0.45584231 0.56980288 0.68376346]\n",
      " [0.50257071 0.57436653 0.64616234]]\n"
     ]
    }
   ],
   "source": [
    "import numpy as np\n",
    "\n",
    "vectors = np.array([[1, 2, 3], [4, 5, 6], [7, 8, 9]])\n",
    "normalized_vectors = vectors / np.linalg.norm(vectors, axis=1)[:, np.newaxis]\n",
    "\n",
    "print(\"Original Vectors:\\n\", vectors)\n",
    "print(\"Normalized Vectors:\\n\", normalized_vectors)"
   ]
  },
  {
   "cell_type": "code",
   "execution_count": 15,
   "metadata": {},
   "outputs": [
    {
     "name": "stdout",
     "output_type": "stream",
     "text": [
      "1\n",
      "(1, 'one')\n",
      "(1, 'one')\n",
      "(1, 'one')\n"
     ]
    }
   ],
   "source": [
    "import heapq\n",
    "heap = []\n",
    "heapq.heapify(heap)\n",
    "heapq.heappush(heap, (1, 'one'))\n",
    "heapq.heappush(heap, (10, 'ten'))\n",
    "heapq.heappush(heap, (5, 'five'))\n",
    "\n",
    "# remove heap[-1] from the heap\n",
    "heap = heap[:-2]\n",
    "\n",
    "print(len(heap))\n",
    "\n",
    "for h in range(3):\n",
    "    print(heap[-1])"
   ]
  },
  {
   "cell_type": "code",
   "execution_count": null,
   "metadata": {},
   "outputs": [],
   "source": []
  }
 ],
 "metadata": {
  "kernelspec": {
   "display_name": "Python 3",
   "language": "python",
   "name": "python3"
  },
  "language_info": {
   "codemirror_mode": {
    "name": "ipython",
    "version": 3
   },
   "file_extension": ".py",
   "mimetype": "text/x-python",
   "name": "python",
   "nbconvert_exporter": "python",
   "pygments_lexer": "ipython3",
   "version": "3.10.1"
  }
 },
 "nbformat": 4,
 "nbformat_minor": 2
}
