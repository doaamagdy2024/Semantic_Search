{
 "cells": [
  {
   "cell_type": "code",
   "execution_count": 2,
   "metadata": {},
   "outputs": [
    {
     "name": "stdout",
     "output_type": "stream",
     "text": [
      "7 6 5\n"
     ]
    }
   ],
   "source": [
    "x = 5\n",
    "y = 6\n",
    "z = x\n",
    "\n",
    "# to let z be a reference to x instead of a copy of x, we can use the following\n",
    "z = x\n",
    "x = 7\n",
    "\n",
    "print(x, y, z)"
   ]
  },
  {
   "cell_type": "code",
   "execution_count": 8,
   "metadata": {},
   "outputs": [
    {
     "name": "stdout",
     "output_type": "stream",
     "text": [
      "[('b', 2), ('c', 4), ('a', 5)]\n",
      "2\n"
     ]
    }
   ],
   "source": [
    "dictionary = {'a': 5, 'b': 2, 'c': 4}\n",
    "sorted_dict = sorted(dictionary.items(), key=lambda x: x[1])\n",
    "print(sorted_dict)\n",
    "first_value = sorted_dict[0][1]\n",
    "print(first_value)"
   ]
  },
  {
   "cell_type": "code",
   "execution_count": 12,
   "metadata": {},
   "outputs": [
    {
     "name": "stdout",
     "output_type": "stream",
     "text": [
      "5\n",
      "4\n",
      "3\n",
      "2\n",
      "1\n"
     ]
    }
   ],
   "source": [
    "# for i in range(0,5):\n",
    "#     print(i)\n",
    "\n",
    "# now if we want to print in reverse order\n",
    "for i in range(5,0,-1):\n",
    "    print(i)"
   ]
  },
  {
   "cell_type": "code",
   "execution_count": 16,
   "metadata": {},
   "outputs": [
    {
     "name": "stdout",
     "output_type": "stream",
     "text": [
      "4\n",
      "a\n"
     ]
    }
   ],
   "source": [
    "from typing import Dict, List, Annotated\n",
    "\n",
    "l_of_dict: List[Dict[int, chr]] = [{1: 'a', 2: 'b'}, {3: 'c', 4: 'd'}, {5: 'e', 6: 'f', 7: 'g'}]\n",
    "\n",
    "l_of_dict.append({})\n",
    "print(len(l_of_dict))\n",
    "print(l_of_dict[0].get(1))"
   ]
  },
  {
   "cell_type": "code",
   "execution_count": 17,
   "metadata": {},
   "outputs": [
    {
     "name": "stdout",
     "output_type": "stream",
     "text": [
      "1\n",
      "2\n",
      "3\n"
     ]
    }
   ],
   "source": [
    "l = [1, 2, 3, 4, 5]\n",
    "\n",
    "for i in l[:3]:\n",
    "    print(i)"
   ]
  },
  {
   "cell_type": "code",
   "execution_count": 18,
   "metadata": {},
   "outputs": [
    {
     "name": "stdout",
     "output_type": "stream",
     "text": [
      "0\n",
      "1\n",
      "2\n",
      "3\n",
      "4\n"
     ]
    }
   ],
   "source": [
    "for i in range (5):\n",
    "    print(i)"
   ]
  },
  {
   "cell_type": "code",
   "execution_count": 2,
   "metadata": {},
   "outputs": [
    {
     "name": "stdout",
     "output_type": "stream",
     "text": [
      "[{4: 4}, {3: 3}, {2: 2}, {1: 1}, {0: 0}]\n"
     ]
    }
   ],
   "source": [
    "l = []\n",
    "for i in range(5):\n",
    "    l.insert(0, {i: i})\n",
    "\n",
    "print(l)"
   ]
  },
  {
   "cell_type": "code",
   "execution_count": 4,
   "metadata": {},
   "outputs": [
    {
     "name": "stdout",
     "output_type": "stream",
     "text": [
      "[6, 7, 8, 9, 10]\n"
     ]
    }
   ],
   "source": [
    "l1= [1,2,3,4,5]\n",
    "l2 = [6,7,8,9,10]\n",
    "l3 = l1 + l2\n",
    "print(l3)"
   ]
  },
  {
   "cell_type": "code",
   "execution_count": 1,
   "metadata": {},
   "outputs": [
    {
     "name": "stdout",
     "output_type": "stream",
     "text": [
      "{0: 5}\n"
     ]
    }
   ],
   "source": [
    "a = dict()\n",
    "a[0] = 5\n",
    "print(a)"
   ]
  },
  {
   "cell_type": "code",
   "execution_count": 8,
   "metadata": {},
   "outputs": [
    {
     "name": "stdout",
     "output_type": "stream",
     "text": [
      "{0: [1]}\n",
      "{0: [1, 2]}\n"
     ]
    }
   ],
   "source": [
    "# now we will make a dictionary where the key is integer and value is a list of integers\n",
    "b = dict()\n",
    "# now we want to append only one value to the list\n",
    "b[0] = b.get(0, []) + [1]\n",
    "print(b)\n",
    "\n",
    "b[0] = b.get(0, []) + [2]\n",
    "print(b)"
   ]
  },
  {
   "cell_type": "code",
   "execution_count": 44,
   "metadata": {},
   "outputs": [
    {
     "name": "stdout",
     "output_type": "stream",
     "text": [
      "[[10.  2.]\n",
      " [ 1.  2.]]\n",
      "------------------\n",
      "[1]\n",
      "------------------\n",
      "[array([10.,  2.]), array([1., 2.])]\n",
      "------------------\n"
     ]
    },
    {
     "name": "stderr",
     "output_type": "stream",
     "text": [
      "c:\\Users\\DELL\\AppData\\Local\\Programs\\Python\\Python310\\lib\\site-packages\\sklearn\\cluster\\_kmeans.py:870: FutureWarning: The default value of `n_init` will change from 10 to 'auto' in 1.4. Set the value of `n_init` explicitly to suppress the warning\n",
      "  warnings.warn(\n"
     ]
    }
   ],
   "source": [
    "# let's test the kmeans algorithm\n",
    "from sklearn.cluster import KMeans\n",
    "import numpy as np\n",
    "class vector:\n",
    "    def __init__(self, id, vect) -> None:\n",
    "        self.id = id\n",
    "        self.vect = vect\n",
    "        self.centroid = None # the centroid that this vector belongs to\n",
    "\n",
    "\n",
    "Vecs = []\n",
    "Vecs.append(vector(0, [1, 2]))\n",
    "Vecs.append(vector(1, [1, 4]))\n",
    "Vecs.append(vector(2, [1, 0]))\n",
    "Vecs.append(vector(3, [10, 2]))\n",
    "Vecs.append(vector(4, [10, 4]))\n",
    "Vecs.append(vector(5, [10, 0]))\n",
    "\n",
    "# apply kmeans on the vectors\n",
    "kmeans = KMeans(n_clusters=2, random_state=0).fit(np.array([v.vect for v in Vecs]))\n",
    "\n",
    "print(kmeans.cluster_centers_)\n",
    "print(\"------------------\")\n",
    "#  now we need to find the n closest centroids to the vector\n",
    "n = 2\n",
    "v = Vecs[0]\n",
    "print(kmeans.predict([v.vect]))\n",
    "print(\"------------------\")\n",
    "\n",
    "nearest_centroids = sorted(kmeans.cluster_centers_, key=lambda x: np.linalg.norm(x - v.vect), reverse= True)[:n]\n",
    "print(nearest_centroids)\n",
    "print(\"------------------\")\n",
    "# another way to do it is to use the kneighbors function\n",
    "\n"
   ]
  },
  {
   "cell_type": "code",
   "execution_count": 50,
   "metadata": {},
   "outputs": [
    {
     "name": "stdout",
     "output_type": "stream",
     "text": [
      "[(1, 'one'), (2, 'two'), (5, 'five'), (10, 'ten')]\n",
      "1\n",
      "[(-10, 'ten'), (-2, 'two'), (-5, 'five'), (-1, 'one')]\n"
     ]
    }
   ],
   "source": [
    "import heapq\n",
    "heap = []\n",
    "\n",
    "# heapify function converts a regular list to a heap\n",
    "heapq.heapify(heap)\n",
    "heapq.heappush(heap, (1, 'one'))\n",
    "heapq.heappush(heap, (10, 'ten'))\n",
    "heapq.heappush(heap, (5, 'five'))\n",
    "heapq.heappush(heap, (2, 'two'))\n",
    "print(heap)\n",
    "\n",
    "# print only the first element of the heap\n",
    "print(heap[0][0])\n",
    "\n",
    "\n",
    "# now we will try to create another heap that is sorted descendingly\n",
    "# we can do that by multiplying the key by -1\n",
    "heap2 = []\n",
    "heapq.heapify(heap2)\n",
    "heapq.heappush(heap2, (-1, 'one'))\n",
    "heapq.heappush(heap2, (-10, 'ten'))\n",
    "heapq.heappush(heap2, (-5, 'five'))\n",
    "heapq.heappush(heap2, (-2, 'two'))\n",
    "print(heap2)\n",
    "\n",
    "\n"
   ]
  },
  {
   "cell_type": "code",
   "execution_count": null,
   "metadata": {},
   "outputs": [],
   "source": []
  }
 ],
 "metadata": {
  "kernelspec": {
   "display_name": "Python 3",
   "language": "python",
   "name": "python3"
  },
  "language_info": {
   "codemirror_mode": {
    "name": "ipython",
    "version": 3
   },
   "file_extension": ".py",
   "mimetype": "text/x-python",
   "name": "python",
   "nbconvert_exporter": "python",
   "pygments_lexer": "ipython3",
   "version": "3.10.1"
  }
 },
 "nbformat": 4,
 "nbformat_minor": 2
}
