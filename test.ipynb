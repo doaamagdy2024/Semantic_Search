{
 "cells": [
  {
   "cell_type": "code",
   "execution_count": 2,
   "metadata": {},
   "outputs": [
    {
     "name": "stdout",
     "output_type": "stream",
     "text": [
      "7 6 5\n"
     ]
    }
   ],
   "source": [
    "x = 5\n",
    "y = 6\n",
    "z = x\n",
    "\n",
    "# to let z be a reference to x instead of a copy of x, we can use the following\n",
    "z = x\n",
    "x = 7\n",
    "\n",
    "print(x, y, z)"
   ]
  },
  {
   "cell_type": "code",
   "execution_count": 8,
   "metadata": {},
   "outputs": [
    {
     "name": "stdout",
     "output_type": "stream",
     "text": [
      "[('b', 2), ('c', 4), ('a', 5)]\n",
      "2\n"
     ]
    }
   ],
   "source": [
    "dictionary = {'a': 5, 'b': 2, 'c': 4}\n",
    "sorted_dict = sorted(dictionary.items(), key=lambda x: x[1])\n",
    "print(sorted_dict)\n",
    "first_value = sorted_dict[0][1]\n",
    "print(first_value)"
   ]
  },
  {
   "cell_type": "code",
   "execution_count": 12,
   "metadata": {},
   "outputs": [
    {
     "name": "stdout",
     "output_type": "stream",
     "text": [
      "5\n",
      "4\n",
      "3\n",
      "2\n",
      "1\n"
     ]
    }
   ],
   "source": [
    "# for i in range(0,5):\n",
    "#     print(i)\n",
    "\n",
    "# now if we want to print in reverse order\n",
    "for i in range(5,0,-1):\n",
    "    print(i)"
   ]
  },
  {
   "cell_type": "code",
   "execution_count": null,
   "metadata": {},
   "outputs": [],
   "source": [
    " [<hnsw.node object at 0x00000177DF789E90>, <hnsw.node object at 0x00000177DF789F10>, <hnsw.node object at 0x00000177DF78A010>, <hnsw.node object at 0x00000177DF78A0D0>, <hnsw.node object at 0x00000177DF78A3D0>, <hnsw.node object at 0x00000177DF78A490>, <hnsw.node object at 0x00000177DF78A6D0>, <hnsw.node object at 0x00000177DF78A790>, <hnsw.node \n",
    "object at 0x00000177DF78A9D0>, <hnsw.node object at 0x00000177DF78AF10>, <hnsw.node object at 0x00000177DF78AD50>, <hnsw.node object at 0x00000177DF78B650>, <hnsw.node object at 0x00000177DF78BD10>, <hnsw.node object at 0x00000177DF78BC50>, <hnsw.node object at 0x00000177DF7A0210>, <hnsw.node object at 0x00000177DF7A0450>, <hnsw.node object at 0x00000177DF7A05D0>, <hnsw.node object at 0x00000177DF7A0650>, <hnsw.node object at 0x00000177DF7A06D0>, <hnsw.node object at 0x00000177DF7A0810>, <hnsw.node object at 0x00000177DF7A0E10>, <hnsw.node object at 0x00000177DF7A1050>, <hnsw.node object at 0x00000177DF7A1250>, <hnsw.node object at 0x00000177DF7A1C50>, <hnsw.node object at 0x00000177DF7A1ED0>, <hnsw.node object at 0x00000177DF7A2010>, <hnsw.node object at 0x00000177DF7A2150>, <hnsw.node object at 0x00000177DF7A2550>, <hnsw.node object at 0x00000177DF7A29D0>, <hnsw.node object at 0x00000177DF7A2C10>, <hnsw.node object at 0x00000177DF7A2E50>, <hnsw.node object at 0x00000177DF7A3650>, <hnsw.node object at 0x00000177DF7A36D0>, <hnsw.node object at 0x00000177DF7A3BD0>, <hnsw.node object at 0x00000177DF7A3E90>, <hnsw.node object at 0x00000177DF7A4150>, <hnsw.node object at 0x00000177DF7A4210>, <hnsw.node object at 0x00000177DF7A4450>, <hnsw.node object at 0x00000177DF7A47D0>, <hnsw.node object at 0x00000177DF7A4A50>, <hnsw.node object at 0x00000177DF7A4E10>, <hnsw.node object at 0x00000177DF7A4F10>, <hnsw.node object at 0x00000177DF7A5050>, <hnsw.node object at 0x00000177DF7A5110>, <hnsw.node object at 0x00000177DF7A5350>, <hnsw.node object at 0x00000177DF7A5410>, <hnsw.node object at 0x00000177DF7A53D0>, <hnsw.node object at 0x00000177DF7A5890>, <hnsw.node object at 0x00000177DF7A5E10>, <hnsw.node object at 0x00000177DF7A5E90>, <hnsw.node object at 0x00000177DF7A6010>, <hnsw.node object at 0x00000177DF7A6310>, <hnsw.node object at 0x00000177DF7A6390>, <hnsw.node object at \n",
    "0x00000177DF7A62D0>, <hnsw.node object at 0x00000177DF7A6710>, <hnsw.node object at 0x00000177DF7A6790>, <hnsw.node object at 0x00000177DF7A6A10>, <hnsw.node object at 0x00000177DF7A7210>, <hnsw.node object at 0x00000177DF7A7910>, <hnsw.node object at 0x00000177DF7A77D0>, <hnsw.node object at 0x00000177DF7A8390>, <hnsw.node object at 0x00000177DF7A84D0>, <hnsw.node object at 0x00000177DF7A8410>, <hnsw.node object at 0x00000177DF7A8750>, <hnsw.node object at 0x00000177DF7A8A10>, <hnsw.node object at 0x00000177DF7A8DD0>, <hnsw.node object at 0x00000177DF7A9010>, <hnsw.node object at 0x00000177DF7A9290>, <hnsw.node object at 0x00000177DF7A9350>, <hnsw.node object at 0x00000177DF7A9650>, <hnsw.node object at 0x00000177DF7A9750>, <hnsw.node object at 0x00000177DF7A99D0>, <hnsw.node object at 0x00000177DF7A9AD0>, <hnsw.node object at 0x00000177DF7A9CD0>, <hnsw.node object at 0x00000177DF7A9D50>]"
   ]
  }
 ],
 "metadata": {
  "kernelspec": {
   "display_name": "Python 3",
   "language": "python",
   "name": "python3"
  },
  "language_info": {
   "codemirror_mode": {
    "name": "ipython",
    "version": 3
   },
   "file_extension": ".py",
   "mimetype": "text/x-python",
   "name": "python",
   "nbconvert_exporter": "python",
   "pygments_lexer": "ipython3",
   "version": "3.10.1"
  }
 },
 "nbformat": 4,
 "nbformat_minor": 2
}
