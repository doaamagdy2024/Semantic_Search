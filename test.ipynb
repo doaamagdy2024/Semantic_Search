{
 "cells": [
  {
   "cell_type": "code",
   "execution_count": 2,
   "metadata": {},
   "outputs": [
    {
     "name": "stdout",
     "output_type": "stream",
     "text": [
      "7 6 5\n"
     ]
    }
   ],
   "source": [
    "x = 5\n",
    "y = 6\n",
    "z = x\n",
    "\n",
    "# to let z be a reference to x instead of a copy of x, we can use the following\n",
    "z = x\n",
    "x = 7\n",
    "\n",
    "print(x, y, z)"
   ]
  },
  {
   "cell_type": "code",
   "execution_count": 8,
   "metadata": {},
   "outputs": [
    {
     "name": "stdout",
     "output_type": "stream",
     "text": [
      "[('b', 2), ('c', 4), ('a', 5)]\n",
      "2\n"
     ]
    }
   ],
   "source": [
    "dictionary = {'a': 5, 'b': 2, 'c': 4}\n",
    "sorted_dict = sorted(dictionary.items(), key=lambda x: x[1])\n",
    "print(sorted_dict)\n",
    "first_value = sorted_dict[0][1]\n",
    "print(first_value)"
   ]
  },
  {
   "cell_type": "code",
   "execution_count": 12,
   "metadata": {},
   "outputs": [
    {
     "name": "stdout",
     "output_type": "stream",
     "text": [
      "5\n",
      "4\n",
      "3\n",
      "2\n",
      "1\n"
     ]
    }
   ],
   "source": [
    "# for i in range(0,5):\n",
    "#     print(i)\n",
    "\n",
    "# now if we want to print in reverse order\n",
    "for i in range(5,0,-1):\n",
    "    print(i)"
   ]
  },
  {
   "cell_type": "code",
   "execution_count": 16,
   "metadata": {},
   "outputs": [
    {
     "name": "stdout",
     "output_type": "stream",
     "text": [
      "4\n",
      "a\n"
     ]
    }
   ],
   "source": [
    "from typing import Dict, List, Annotated\n",
    "\n",
    "l_of_dict: List[Dict[int, chr]] = [{1: 'a', 2: 'b'}, {3: 'c', 4: 'd'}, {5: 'e', 6: 'f', 7: 'g'}]\n",
    "\n",
    "l_of_dict.append({})\n",
    "print(len(l_of_dict))\n",
    "print(l_of_dict[0].get(1))"
   ]
  },
  {
   "cell_type": "code",
   "execution_count": 17,
   "metadata": {},
   "outputs": [
    {
     "name": "stdout",
     "output_type": "stream",
     "text": [
      "1\n",
      "2\n",
      "3\n"
     ]
    }
   ],
   "source": [
    "l = [1, 2, 3, 4, 5]\n",
    "\n",
    "for i in l[:3]:\n",
    "    print(i)"
   ]
  },
  {
   "cell_type": "code",
   "execution_count": 18,
   "metadata": {},
   "outputs": [
    {
     "name": "stdout",
     "output_type": "stream",
     "text": [
      "0\n",
      "1\n",
      "2\n",
      "3\n",
      "4\n"
     ]
    }
   ],
   "source": [
    "for i in range (5):\n",
    "    print(i)"
   ]
  },
  {
   "cell_type": "code",
   "execution_count": 2,
   "metadata": {},
   "outputs": [
    {
     "name": "stdout",
     "output_type": "stream",
     "text": [
      "[{4: 4}, {3: 3}, {2: 2}, {1: 1}, {0: 0}]\n"
     ]
    }
   ],
   "source": [
    "l = []\n",
    "for i in range(5):\n",
    "    l.insert(0, {i: i})\n",
    "\n",
    "print(l)"
   ]
  },
  {
   "cell_type": "code",
   "execution_count": 4,
   "metadata": {},
   "outputs": [
    {
     "name": "stdout",
     "output_type": "stream",
     "text": [
      "[6, 7, 8, 9, 10]\n"
     ]
    }
   ],
   "source": [
    "l1= [1,2,3,4,5]\n",
    "l2 = [6,7,8,9,10]\n",
    "l3 = l1 + l2\n",
    "print(l3)"
   ]
  },
  {
   "cell_type": "code",
   "execution_count": 1,
   "metadata": {},
   "outputs": [
    {
     "name": "stdout",
     "output_type": "stream",
     "text": [
      "{0: 5}\n"
     ]
    }
   ],
   "source": [
    "a = dict()\n",
    "a[0] = 5\n",
    "print(a)"
   ]
  },
  {
   "cell_type": "code",
   "execution_count": 8,
   "metadata": {},
   "outputs": [
    {
     "name": "stdout",
     "output_type": "stream",
     "text": [
      "{0: [1]}\n",
      "{0: [1, 2]}\n"
     ]
    }
   ],
   "source": [
    "# now we will make a dictionary where the key is integer and value is a list of integers\n",
    "b = dict()\n",
    "# now we want to append only one value to the list\n",
    "b[0] = b.get(0, []) + [1]\n",
    "print(b)\n",
    "\n",
    "b[0] = b.get(0, []) + [2]\n",
    "print(b)"
   ]
  },
  {
   "cell_type": "code",
   "execution_count": 44,
   "metadata": {},
   "outputs": [
    {
     "name": "stdout",
     "output_type": "stream",
     "text": [
      "[[10.  2.]\n",
      " [ 1.  2.]]\n",
      "------------------\n",
      "[1]\n",
      "------------------\n",
      "[array([10.,  2.]), array([1., 2.])]\n",
      "------------------\n"
     ]
    },
    {
     "name": "stderr",
     "output_type": "stream",
     "text": [
      "c:\\Users\\DELL\\AppData\\Local\\Programs\\Python\\Python310\\lib\\site-packages\\sklearn\\cluster\\_kmeans.py:870: FutureWarning: The default value of `n_init` will change from 10 to 'auto' in 1.4. Set the value of `n_init` explicitly to suppress the warning\n",
      "  warnings.warn(\n"
     ]
    }
   ],
   "source": [
    "# let's test the kmeans algorithm\n",
    "from sklearn.cluster import KMeans\n",
    "import numpy as np\n",
    "class vector:\n",
    "    def __init__(self, id, vect) -> None:\n",
    "        self.id = id\n",
    "        self.vect = vect\n",
    "        self.centroid = None # the centroid that this vector belongs to\n",
    "\n",
    "\n",
    "Vecs = []\n",
    "Vecs.append(vector(0, [1, 2]))\n",
    "Vecs.append(vector(1, [1, 4]))\n",
    "Vecs.append(vector(2, [1, 0]))\n",
    "Vecs.append(vector(3, [10, 2]))\n",
    "Vecs.append(vector(4, [10, 4]))\n",
    "Vecs.append(vector(5, [10, 0]))\n",
    "\n",
    "# apply kmeans on the vectors\n",
    "kmeans = KMeans(n_clusters=2, random_state=0).fit(np.array([v.vect for v in Vecs]))\n",
    "\n",
    "print(kmeans.cluster_centers_)\n",
    "print(\"------------------\")\n",
    "#  now we need to find the n closest centroids to the vector\n",
    "n = 2\n",
    "v = Vecs[0]\n",
    "print(kmeans.predict([v.vect]))\n",
    "print(\"------------------\")\n",
    "\n",
    "nearest_centroids = sorted(kmeans.cluster_centers_, key=lambda x: np.linalg.norm(x - v.vect), reverse= True)[:n]\n",
    "print(nearest_centroids)\n",
    "print(\"------------------\")\n",
    "# another way to do it is to use the kneighbors function\n",
    "\n"
   ]
  },
  {
   "cell_type": "code",
   "execution_count": 50,
   "metadata": {},
   "outputs": [
    {
     "name": "stdout",
     "output_type": "stream",
     "text": [
      "[(1, 'one'), (2, 'two'), (5, 'five'), (10, 'ten')]\n",
      "1\n",
      "[(-10, 'ten'), (-2, 'two'), (-5, 'five'), (-1, 'one')]\n"
     ]
    }
   ],
   "source": [
    "import heapq\n",
    "heap = []\n",
    "\n",
    "# heapify function converts a regular list to a heap\n",
    "heapq.heapify(heap)\n",
    "heapq.heappush(heap, (1, 'one'))\n",
    "heapq.heappush(heap, (10, 'ten'))\n",
    "heapq.heappush(heap, (5, 'five'))\n",
    "heapq.heappush(heap, (2, 'two'))\n",
    "print(heap)\n",
    "\n",
    "# print only the first element of the heap\n",
    "print(heap[0][0])\n",
    "\n",
    "\n",
    "# now we will try to create another heap that is sorted descendingly\n",
    "# we can do that by multiplying the key by -1\n",
    "heap2 = []\n",
    "heapq.heapify(heap2)\n",
    "heapq.heappush(heap2, (-1, 'one'))\n",
    "heapq.heappush(heap2, (-10, 'ten'))\n",
    "heapq.heappush(heap2, (-5, 'five'))\n",
    "heapq.heappush(heap2, (-2, 'two'))\n",
    "print(heap2)\n",
    "\n",
    "\n"
   ]
  },
  {
   "cell_type": "code",
   "execution_count": 1,
   "metadata": {},
   "outputs": [
    {
     "name": "stderr",
     "output_type": "stream",
     "text": [
      "'conda' is not recognized as an internal or external command,\n",
      "operable program or batch file.\n",
      "Python was not found; run without arguments to install from the Microsoft Store, or disable this shortcut from Settings > Manage App Execution Aliases.\n"
     ]
    },
    {
     "name": "stdout",
     "output_type": "stream",
     "text": [
      "Collecting sklearn\n",
      "  Downloading sklearn-0.0.post12.tar.gz (2.6 kB)\n",
      "  Preparing metadata (setup.py): started\n",
      "  Preparing metadata (setup.py): finished with status 'error'\n"
     ]
    },
    {
     "name": "stderr",
     "output_type": "stream",
     "text": [
      "  error: subprocess-exited-with-error\n",
      "  \n",
      "  × python setup.py egg_info did not run successfully.\n",
      "  │ exit code: 1\n",
      "  ╰─> [15 lines of output]\n",
      "      The 'sklearn' PyPI package is deprecated, use 'scikit-learn'\n",
      "      rather than 'sklearn' for pip commands.\n",
      "      \n",
      "      Here is how to fix this error in the main use cases:\n",
      "      - use 'pip install scikit-learn' rather than 'pip install sklearn'\n",
      "      - replace 'sklearn' by 'scikit-learn' in your pip requirements files\n",
      "        (requirements.txt, setup.py, setup.cfg, Pipfile, etc ...)\n",
      "      - if the 'sklearn' package is used by one of your dependencies,\n",
      "        it would be great if you take some time to track which package uses\n",
      "        'sklearn' instead of 'scikit-learn' and report it to their issue tracker\n",
      "      - as a last resort, set the environment variable\n",
      "        SKLEARN_ALLOW_DEPRECATED_SKLEARN_PACKAGE_INSTALL=True to avoid this error\n",
      "      \n",
      "      More information is available at\n",
      "      https://github.com/scikit-learn/sklearn-pypi-package\n",
      "      [end of output]\n",
      "  \n",
      "  note: This error originates from a subprocess, and is likely not a problem with pip.\n",
      "error: metadata-generation-failed\n",
      "\n",
      "× Encountered error while generating package metadata.\n",
      "╰─> See above for output.\n",
      "\n",
      "note: This is an issue with the package mentioned above, not pip.\n",
      "hint: See above for details.\n",
      "\n",
      "[notice] A new release of pip is available: 23.1.2 -> 23.3.1\n",
      "[notice] To update, run: C:\\Python311\\python.exe -m pip install --upgrade pip\n",
      "'conda' is not recognized as an internal or external command,\n",
      "operable program or batch file.\n",
      "'conda' is not recognized as an internal or external command,\n",
      "operable program or batch file.\n",
      "'conda' is not recognized as an internal or external command,\n",
      "operable program or batch file.\n"
     ]
    }
   ],
   "source": [
    "# Nothing changed\n",
    "!conda update sklearn\n",
    "\n",
    "# Error cannot find pip3\n",
    "!python3 -m pip3 install --upgrade sklearn\n",
    "\n",
    "# From the logs is installing 0.22\n",
    "!pip install sklearn --upgrade\n",
    "\n",
    "\n",
    "!conda install scikit-learn -y\n",
    "\n",
    "# Stuck forever at: Solving environment\n",
    "!conda config --append channels conda-forge\n",
    "!conda install scikit-learn=0.23.1"
   ]
  },
  {
   "cell_type": "code",
   "execution_count": 1,
   "metadata": {},
   "outputs": [],
   "source": [
    "# uinstall pip threadpoolctl\n",
    "# uninstall sklearn \n",
    "# install sklearn\n",
    "\n",
    "# pip freeze | grep scikit-learn  --> google colab"
   ]
  },
  {
   "cell_type": "code",
   "execution_count": 5,
   "metadata": {},
   "outputs": [
    {
     "ename": "FileNotFoundError",
     "evalue": "[Errno 2] No such file or directory: '10k/centroids.pkl'",
     "output_type": "error",
     "traceback": [
      "\u001b[1;31m---------------------------------------------------------------------------\u001b[0m",
      "\u001b[1;31mFileNotFoundError\u001b[0m                         Traceback (most recent call last)",
      "Input \u001b[1;32mIn [5]\u001b[0m, in \u001b[0;36m<cell line: 4>\u001b[1;34m()\u001b[0m\n\u001b[0;32m      1\u001b[0m \u001b[38;5;28;01mimport\u001b[39;00m \u001b[38;5;21;01mpickle\u001b[39;00m\n\u001b[0;32m      3\u001b[0m \u001b[38;5;66;03m# now we will try to load data from a pickle file\u001b[39;00m\n\u001b[1;32m----> 4\u001b[0m data \u001b[38;5;241m=\u001b[39m pickle\u001b[38;5;241m.\u001b[39mload(\u001b[38;5;28;43mopen\u001b[39;49m\u001b[43m(\u001b[49m\u001b[38;5;124;43m'\u001b[39;49m\u001b[38;5;124;43m10k/centroids.pkl\u001b[39;49m\u001b[38;5;124;43m'\u001b[39;49m\u001b[43m,\u001b[49m\u001b[43m \u001b[49m\u001b[38;5;124;43m'\u001b[39;49m\u001b[38;5;124;43mrb\u001b[39;49m\u001b[38;5;124;43m'\u001b[39;49m\u001b[43m)\u001b[49m)\n",
      "\u001b[1;31mFileNotFoundError\u001b[0m: [Errno 2] No such file or directory: '10k/centroids.pkl'"
     ]
    }
   ],
   "source": [
    "import pickle\n",
    "\n",
    "# now we will try to load data from a pickle file\n",
    "data = pickle.load(open('10k/centroids.pkl', 'rb'))"
   ]
  },
  {
   "cell_type": "code",
   "execution_count": 25,
   "metadata": {},
   "outputs": [
    {
     "name": "stdout",
     "output_type": "stream",
     "text": [
      "[1, 2, 3, 4, 5]\n",
      "[6, 7, 8, 9, 10]\n"
     ]
    }
   ],
   "source": [
    "import pickle\n",
    "\n",
    "person1 = [1, 2, 3, 4, 5]\n",
    "preson2 = [6, 7, 8, 9, 10]\n",
    "\n",
    "pickleFile = open(\"person1.pkl\",\"wb\")\n",
    "pickle.dump(person1, pickleFile) # put\n",
    "pickle.dump(preson2, pickleFile) # put\n",
    "\n",
    "\n",
    "\n",
    "pickleFile = open(\"person1.pkl\",\"rb\")\n",
    "\n",
    "# looad from the file until we reach the end of the file\n",
    "while True:\n",
    "    try:\n",
    "        print(pickle.load(pickleFile))\n",
    "    except EOFError:\n",
    "        break\n",
    "\n",
    "# print(persona)\n",
    "# print(personb)"
   ]
  },
  {
   "cell_type": "code",
   "execution_count": 10,
   "metadata": {},
   "outputs": [
    {
     "name": "stdout",
     "output_type": "stream",
     "text": [
      "[[2, 3], [5, 6], [8, 9]]\n"
     ]
    }
   ],
   "source": [
    "matrix = [[1,2,3],[4,5,6],[7,8,9]]\n",
    "# let's remove the first element of each row without using a for loop\n",
    "matrix = [row[1:] for row in matrix]\n",
    "print(matrix)"
   ]
  },
  {
   "cell_type": "code",
   "execution_count": 11,
   "metadata": {},
   "outputs": [
    {
     "name": "stdout",
     "output_type": "stream",
     "text": [
      "[1, 2, 3, 4]\n"
     ]
    }
   ],
   "source": [
    "v = [1] + [2,3,4]\n",
    "print(v)"
   ]
  },
  {
   "cell_type": "code",
   "execution_count": 21,
   "metadata": {},
   "outputs": [
    {
     "name": "stdout",
     "output_type": "stream",
     "text": [
      "[{'example_key': 'example_value_1', 'numbers': [1, 2, 3, 4]}, {'example_key': 'example_value_2', 'numbers': [5, 6, 7, 8]}]\n"
     ]
    }
   ],
   "source": [
    "data_list = [\n",
    "    {'example_key': 'example_value_1', 'numbers': [1, 2, 3, 4]},\n",
    "    {'example_key': 'example_value_2', 'numbers': [5, 6, 7, 8]},\n",
    "    # Add more dictionaries as needed\n",
    "]\n",
    "\n",
    "# Specify the file path\n",
    "file_path = 'example.pkl'\n",
    "\n",
    "# Open the file in binary write mode ('wb')\n",
    "with open(file_path, 'wb') as file:\n",
    "    # Use a for loop to iterate through the list and dump each dictionary\n",
    "    for data in data_list:\n",
    "        pickle.dump(data, file)\n",
    "\n",
    "# Open the file in binary read mode ('rb')\n",
    "with open(file_path, 'rb') as file:\n",
    "    # Use a for loop to iterate through the list and load each dictionary\n",
    "    for i in range(len(data_list)):\n",
    "        data_list[i] = pickle.load(file)\n",
    "\n",
    "# Print the loaded data\n",
    "print(data_list)\n"
   ]
  },
  {
   "cell_type": "code",
   "execution_count": null,
   "metadata": {},
   "outputs": [],
   "source": []
  }
 ],
 "metadata": {
  "kernelspec": {
   "display_name": "Python 3",
   "language": "python",
   "name": "python3"
  },
  "language_info": {
   "codemirror_mode": {
    "name": "ipython",
    "version": 3
   },
   "file_extension": ".py",
   "mimetype": "text/x-python",
   "name": "python",
   "nbconvert_exporter": "python",
   "pygments_lexer": "ipython3",
   "version": "3.10.1"
  }
 },
 "nbformat": 4,
 "nbformat_minor": 2
}
